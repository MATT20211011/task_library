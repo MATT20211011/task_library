{
 "cells": [
  {
   "cell_type": "code",
   "execution_count": 9,
   "metadata": {
    "pycharm": {
     "name": "#%%\n"
    }
   },
   "outputs": [],
   "source": [
    "import json\n",
    "from datetime import datetime\n",
    "import math as m\n",
    "import pandas as pd\n",
    "import pymysql as pm\n",
    "from sqlalchemy import create_engine\n",
    "from util.slack import Slack\n",
    "import numpy as np"
   ]
  },
  {
   "cell_type": "code",
   "execution_count": 10,
   "metadata": {
    "pycharm": {
     "name": "#%%\n"
    }
   },
   "outputs": [
    {
     "name": "stdout",
     "output_type": "stream",
     "text": [
      "   idxCorp         법인명         희망한도       심사요청일       마감예정일\n",
      "0     8155    주식회사 버틀러   10,000,000  2022-09-16  2022-09-21\n",
      "1     8164  주식회사 탑픽이엔엠   20,000,000  2022-09-15  2022-09-20\n",
      "2     8191  엠피엔컴퍼니주식회사  100,000,000  2022-09-19  2022-09-24\n"
     ]
    },
    {
     "name": "stderr",
     "output_type": "stream",
     "text": [
      "/Library/Frameworks/Python.framework/Versions/3.10/lib/python3.10/site-packages/slack_sdk/web/internal_utils.py:264: UserWarning: The top-level `text` argument is missing in the request payload for a chat.postMessage call - It's a best practice to always provide a `text` argument when posting a message. The `text` argument is used in places where content cannot be rendered such as: system push notifications, assistive technology such as screen readers, etc.\n",
      "  warnings.warn(message, UserWarning)\n"
     ]
    }
   ],
   "source": [
    "config_path = './config/config.json'\n",
    "sql_path = './sql/'\n",
    "\n",
    "# load config\n",
    "config = json.load(open(config_path))\n",
    "    \n",
    "# Slack client\n",
    "slack = Slack(config['slack']['channel'], config['slack']['token'])\n",
    "\n",
    "# load mySQL instance (for select)\n",
    "db = pm.connect(\n",
    "    user=config['mysqlCardSlave']['user'], \n",
    "    passwd=config['mysqlCardSlave']['password'], \n",
    "    host=config['mysqlCardSlave']['host'], \n",
    "    db=config['mysqlCardSlave']['database'], \n",
    "    port=config['mysqlCardSlave']['port'],\n",
    "    cursorclass=pm.cursors.DictCursor)\n",
    "cursor = db.cursor()\n",
    "\n",
    "f = open(str(sql_path)+\"special_limit_request.sql\", 'r')\n",
    "\n",
    "sql = ''\n",
    "while True:\n",
    "    line = f.readline()\n",
    "    if not line: break\n",
    "    a = str(line)\n",
    "    sql = sql + a\n",
    "f.close()\n",
    "\n",
    "cursor.execute(sql)\n",
    "result = cursor.fetchall()\n",
    "db.close()\n",
    "\n",
    "df = pd.DataFrame(result)\n",
    "\n",
    "print(df)\n",
    "\n",
    "for idxCorp in df['idxCorp']:\n",
    "    mask=df['idxCorp']==idxCorp\n",
    "    slack_msg=( '▶︎ 법인개요 ◀︎'+'\\n'+\n",
    "                '법인명: {}'+'\\n'+\n",
    "                '희망한도: {}'+'\\n'+\n",
    "                '심사요청일: {}'+'\\n'+\n",
    "                '마감예정일: {}'+'\\n'\n",
    "                ).format(\n",
    "                    df.loc[mask]['법인명'].item(),\n",
    "                    df.loc[mask]['희망한도'].item(),\n",
    "                    df.loc[mask]['심사요청일'].item(),\n",
    "                    df.loc[mask]['마감예정일'].item())\n",
    "    slack.send(title='특별심사_Backlog', message=slack_msg)\n",
    "\n"
   ]
  }
 ],
 "metadata": {
  "kernelspec": {
   "display_name": "Python 3.10.6 64-bit",
   "language": "python",
   "name": "python3"
  },
  "language_info": {
   "codemirror_mode": {
    "name": "ipython",
    "version": 3
   },
   "file_extension": ".py",
   "mimetype": "text/x-python",
   "name": "python",
   "nbconvert_exporter": "python",
   "pygments_lexer": "ipython3",
   "version": "3.10.4"
  },
  "orig_nbformat": 4,
  "vscode": {
   "interpreter": {
    "hash": "aee8b7b246df8f9039afb4144a1f6fd8d2ca17a180786b69acc140d282b71a49"
   }
  }
 },
 "nbformat": 4,
 "nbformat_minor": 2
}
